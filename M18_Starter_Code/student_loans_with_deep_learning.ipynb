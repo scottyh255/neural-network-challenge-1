{
  "cells": [
    {
      "cell_type": "markdown",
      "metadata": {
        "id": "T7ZNhGcW6q6r"
      },
      "source": [
        "# Student Loan Risk with Deep Learning"
      ]
    },
    {
      "cell_type": "code",
      "execution_count": 24,
      "metadata": {
        "id": "0otrXpJc6q6u"
      },
      "outputs": [],
      "source": [
        "# Imports\n",
        "import pandas as pd\n",
        "import tensorflow as tf\n",
        "from tensorflow.keras.layers import Dense\n",
        "from tensorflow.keras.models import Sequential\n",
        "from sklearn.model_selection import train_test_split\n",
        "from sklearn.preprocessing import StandardScaler\n",
        "from sklearn.metrics import classification_report\n",
        "from pathlib import Path"
      ]
    },
    {
      "cell_type": "markdown",
      "metadata": {
        "id": "OpV4Y-3Z6q6w"
      },
      "source": [
        "---\n",
        "\n",
        "## Prepare the data to be used on a neural network model"
      ]
    },
    {
      "cell_type": "markdown",
      "metadata": {
        "id": "TUuSzp2l6q6w"
      },
      "source": [
        "### Step 1: Read the `student-loans.csv` file into a Pandas DataFrame. Review the DataFrame, looking for columns that could eventually define your features and target variables.   "
      ]
    },
    {
      "cell_type": "code",
      "execution_count": 25,
      "metadata": {
        "colab": {
          "base_uri": "https://localhost:8080/",
          "height": 226
        },
        "id": "G65km1KD6q6x",
        "outputId": "93d12d8d-c415-4017-8452-5b4966e4dde5"
      },
      "outputs": [
        {
          "data": {
            "text/html": [
              "<div>\n",
              "<style scoped>\n",
              "    .dataframe tbody tr th:only-of-type {\n",
              "        vertical-align: middle;\n",
              "    }\n",
              "\n",
              "    .dataframe tbody tr th {\n",
              "        vertical-align: top;\n",
              "    }\n",
              "\n",
              "    .dataframe thead th {\n",
              "        text-align: right;\n",
              "    }\n",
              "</style>\n",
              "<table border=\"1\" class=\"dataframe\">\n",
              "  <thead>\n",
              "    <tr style=\"text-align: right;\">\n",
              "      <th></th>\n",
              "      <th>payment_history</th>\n",
              "      <th>location_parameter</th>\n",
              "      <th>stem_degree_score</th>\n",
              "      <th>gpa_ranking</th>\n",
              "      <th>alumni_success</th>\n",
              "      <th>study_major_code</th>\n",
              "      <th>time_to_completion</th>\n",
              "      <th>finance_workshop_score</th>\n",
              "      <th>cohort_ranking</th>\n",
              "      <th>total_loan_score</th>\n",
              "      <th>financial_aid_score</th>\n",
              "      <th>credit_ranking</th>\n",
              "    </tr>\n",
              "  </thead>\n",
              "  <tbody>\n",
              "    <tr>\n",
              "      <th>0</th>\n",
              "      <td>7.4</td>\n",
              "      <td>0.70</td>\n",
              "      <td>0.00</td>\n",
              "      <td>1.9</td>\n",
              "      <td>0.076</td>\n",
              "      <td>11.0</td>\n",
              "      <td>34.0</td>\n",
              "      <td>0.9978</td>\n",
              "      <td>3.51</td>\n",
              "      <td>0.56</td>\n",
              "      <td>9.4</td>\n",
              "      <td>0</td>\n",
              "    </tr>\n",
              "    <tr>\n",
              "      <th>1</th>\n",
              "      <td>7.8</td>\n",
              "      <td>0.88</td>\n",
              "      <td>0.00</td>\n",
              "      <td>2.6</td>\n",
              "      <td>0.098</td>\n",
              "      <td>25.0</td>\n",
              "      <td>67.0</td>\n",
              "      <td>0.9968</td>\n",
              "      <td>3.20</td>\n",
              "      <td>0.68</td>\n",
              "      <td>9.8</td>\n",
              "      <td>0</td>\n",
              "    </tr>\n",
              "    <tr>\n",
              "      <th>2</th>\n",
              "      <td>7.8</td>\n",
              "      <td>0.76</td>\n",
              "      <td>0.04</td>\n",
              "      <td>2.3</td>\n",
              "      <td>0.092</td>\n",
              "      <td>15.0</td>\n",
              "      <td>54.0</td>\n",
              "      <td>0.9970</td>\n",
              "      <td>3.26</td>\n",
              "      <td>0.65</td>\n",
              "      <td>9.8</td>\n",
              "      <td>0</td>\n",
              "    </tr>\n",
              "    <tr>\n",
              "      <th>3</th>\n",
              "      <td>11.2</td>\n",
              "      <td>0.28</td>\n",
              "      <td>0.56</td>\n",
              "      <td>1.9</td>\n",
              "      <td>0.075</td>\n",
              "      <td>17.0</td>\n",
              "      <td>60.0</td>\n",
              "      <td>0.9980</td>\n",
              "      <td>3.16</td>\n",
              "      <td>0.58</td>\n",
              "      <td>9.8</td>\n",
              "      <td>1</td>\n",
              "    </tr>\n",
              "    <tr>\n",
              "      <th>4</th>\n",
              "      <td>7.4</td>\n",
              "      <td>0.70</td>\n",
              "      <td>0.00</td>\n",
              "      <td>1.9</td>\n",
              "      <td>0.076</td>\n",
              "      <td>11.0</td>\n",
              "      <td>34.0</td>\n",
              "      <td>0.9978</td>\n",
              "      <td>3.51</td>\n",
              "      <td>0.56</td>\n",
              "      <td>9.4</td>\n",
              "      <td>0</td>\n",
              "    </tr>\n",
              "  </tbody>\n",
              "</table>\n",
              "</div>"
            ],
            "text/plain": [
              "   payment_history  location_parameter  stem_degree_score  gpa_ranking  \\\n",
              "0              7.4                0.70               0.00          1.9   \n",
              "1              7.8                0.88               0.00          2.6   \n",
              "2              7.8                0.76               0.04          2.3   \n",
              "3             11.2                0.28               0.56          1.9   \n",
              "4              7.4                0.70               0.00          1.9   \n",
              "\n",
              "   alumni_success  study_major_code  time_to_completion  \\\n",
              "0           0.076              11.0                34.0   \n",
              "1           0.098              25.0                67.0   \n",
              "2           0.092              15.0                54.0   \n",
              "3           0.075              17.0                60.0   \n",
              "4           0.076              11.0                34.0   \n",
              "\n",
              "   finance_workshop_score  cohort_ranking  total_loan_score  \\\n",
              "0                  0.9978            3.51              0.56   \n",
              "1                  0.9968            3.20              0.68   \n",
              "2                  0.9970            3.26              0.65   \n",
              "3                  0.9980            3.16              0.58   \n",
              "4                  0.9978            3.51              0.56   \n",
              "\n",
              "   financial_aid_score  credit_ranking  \n",
              "0                  9.4               0  \n",
              "1                  9.8               0  \n",
              "2                  9.8               0  \n",
              "3                  9.8               1  \n",
              "4                  9.4               0  "
            ]
          },
          "execution_count": 25,
          "metadata": {},
          "output_type": "execute_result"
        }
      ],
      "source": [
        "# Read the csv into a Pandas DataFrame\n",
        "file_path = \"https://static.bc-edx.com/ai/ail-v-1-0/m18/lms/datasets/student-loans.csv\"\n",
        "loans_df = pd.read_csv(file_path)\n",
        "\n",
        "# Review the DataFrame\n",
        "loans_df.head()"
      ]
    },
    {
      "cell_type": "code",
      "execution_count": 26,
      "metadata": {
        "colab": {
          "base_uri": "https://localhost:8080/"
        },
        "id": "K8ZYB8wx6q6x",
        "outputId": "b509fc34-4488-406e-e451-2069fec37371"
      },
      "outputs": [
        {
          "data": {
            "text/plain": [
              "payment_history           float64\n",
              "location_parameter        float64\n",
              "stem_degree_score         float64\n",
              "gpa_ranking               float64\n",
              "alumni_success            float64\n",
              "study_major_code          float64\n",
              "time_to_completion        float64\n",
              "finance_workshop_score    float64\n",
              "cohort_ranking            float64\n",
              "total_loan_score          float64\n",
              "financial_aid_score       float64\n",
              "credit_ranking              int64\n",
              "dtype: object"
            ]
          },
          "execution_count": 26,
          "metadata": {},
          "output_type": "execute_result"
        }
      ],
      "source": [
        "# Review the data types associated with the columns\n",
        "loans_df.dtypes"
      ]
    },
    {
      "cell_type": "code",
      "execution_count": 27,
      "metadata": {
        "colab": {
          "base_uri": "https://localhost:8080/"
        },
        "id": "9P8aX-dW75JO",
        "outputId": "63251fa8-5ac1-4112-c2f7-bc5d97ea8491"
      },
      "outputs": [
        {
          "data": {
            "text/plain": [
              "credit_ranking\n",
              "1    855\n",
              "0    744\n",
              "Name: count, dtype: int64"
            ]
          },
          "execution_count": 27,
          "metadata": {},
          "output_type": "execute_result"
        }
      ],
      "source": [
        "# Check the credit_ranking value counts\n",
        "loans_df[\"credit_ranking\"].value_counts()"
      ]
    },
    {
      "cell_type": "markdown",
      "metadata": {
        "id": "R6vbZeDH6q6y"
      },
      "source": [
        "### Step 2: Using the preprocessed data, create the features (`X`) and target (`y`) datasets. The target dataset should be defined by the preprocessed DataFrame column “credit_ranking”. The remaining columns should define the features dataset."
      ]
    },
    {
      "cell_type": "code",
      "execution_count": 28,
      "metadata": {
        "colab": {
          "base_uri": "https://localhost:8080/"
        },
        "id": "Q5eVAP5M6q6y",
        "outputId": "89728bbf-6930-4573-a126-9f1b66ed8859"
      },
      "outputs": [
        {
          "data": {
            "text/plain": [
              "array([0, 0, 0, 1, 0], dtype=int64)"
            ]
          },
          "execution_count": 28,
          "metadata": {},
          "output_type": "execute_result"
        }
      ],
      "source": [
        "# Define the target set y using the credit_ranking column\n",
        "y = loans_df[\"credit_ranking\"].values\n",
        "\n",
        "# Display a sample of y\n",
        "y[:5]"
      ]
    },
    {
      "cell_type": "code",
      "execution_count": 29,
      "metadata": {
        "colab": {
          "base_uri": "https://localhost:8080/",
          "height": 226
        },
        "id": "IIkrD2Sn6q6z",
        "outputId": "ce07c4a3-fb81-4657-d11e-ec85ae8554c9"
      },
      "outputs": [
        {
          "data": {
            "text/html": [
              "<div>\n",
              "<style scoped>\n",
              "    .dataframe tbody tr th:only-of-type {\n",
              "        vertical-align: middle;\n",
              "    }\n",
              "\n",
              "    .dataframe tbody tr th {\n",
              "        vertical-align: top;\n",
              "    }\n",
              "\n",
              "    .dataframe thead th {\n",
              "        text-align: right;\n",
              "    }\n",
              "</style>\n",
              "<table border=\"1\" class=\"dataframe\">\n",
              "  <thead>\n",
              "    <tr style=\"text-align: right;\">\n",
              "      <th></th>\n",
              "      <th>payment_history</th>\n",
              "      <th>location_parameter</th>\n",
              "      <th>stem_degree_score</th>\n",
              "      <th>gpa_ranking</th>\n",
              "      <th>alumni_success</th>\n",
              "      <th>study_major_code</th>\n",
              "      <th>time_to_completion</th>\n",
              "      <th>finance_workshop_score</th>\n",
              "      <th>cohort_ranking</th>\n",
              "      <th>total_loan_score</th>\n",
              "      <th>financial_aid_score</th>\n",
              "    </tr>\n",
              "  </thead>\n",
              "  <tbody>\n",
              "    <tr>\n",
              "      <th>0</th>\n",
              "      <td>7.4</td>\n",
              "      <td>0.70</td>\n",
              "      <td>0.00</td>\n",
              "      <td>1.9</td>\n",
              "      <td>0.076</td>\n",
              "      <td>11.0</td>\n",
              "      <td>34.0</td>\n",
              "      <td>0.9978</td>\n",
              "      <td>3.51</td>\n",
              "      <td>0.56</td>\n",
              "      <td>9.4</td>\n",
              "    </tr>\n",
              "    <tr>\n",
              "      <th>1</th>\n",
              "      <td>7.8</td>\n",
              "      <td>0.88</td>\n",
              "      <td>0.00</td>\n",
              "      <td>2.6</td>\n",
              "      <td>0.098</td>\n",
              "      <td>25.0</td>\n",
              "      <td>67.0</td>\n",
              "      <td>0.9968</td>\n",
              "      <td>3.20</td>\n",
              "      <td>0.68</td>\n",
              "      <td>9.8</td>\n",
              "    </tr>\n",
              "    <tr>\n",
              "      <th>2</th>\n",
              "      <td>7.8</td>\n",
              "      <td>0.76</td>\n",
              "      <td>0.04</td>\n",
              "      <td>2.3</td>\n",
              "      <td>0.092</td>\n",
              "      <td>15.0</td>\n",
              "      <td>54.0</td>\n",
              "      <td>0.9970</td>\n",
              "      <td>3.26</td>\n",
              "      <td>0.65</td>\n",
              "      <td>9.8</td>\n",
              "    </tr>\n",
              "    <tr>\n",
              "      <th>3</th>\n",
              "      <td>11.2</td>\n",
              "      <td>0.28</td>\n",
              "      <td>0.56</td>\n",
              "      <td>1.9</td>\n",
              "      <td>0.075</td>\n",
              "      <td>17.0</td>\n",
              "      <td>60.0</td>\n",
              "      <td>0.9980</td>\n",
              "      <td>3.16</td>\n",
              "      <td>0.58</td>\n",
              "      <td>9.8</td>\n",
              "    </tr>\n",
              "    <tr>\n",
              "      <th>4</th>\n",
              "      <td>7.4</td>\n",
              "      <td>0.70</td>\n",
              "      <td>0.00</td>\n",
              "      <td>1.9</td>\n",
              "      <td>0.076</td>\n",
              "      <td>11.0</td>\n",
              "      <td>34.0</td>\n",
              "      <td>0.9978</td>\n",
              "      <td>3.51</td>\n",
              "      <td>0.56</td>\n",
              "      <td>9.4</td>\n",
              "    </tr>\n",
              "  </tbody>\n",
              "</table>\n",
              "</div>"
            ],
            "text/plain": [
              "   payment_history  location_parameter  stem_degree_score  gpa_ranking  \\\n",
              "0              7.4                0.70               0.00          1.9   \n",
              "1              7.8                0.88               0.00          2.6   \n",
              "2              7.8                0.76               0.04          2.3   \n",
              "3             11.2                0.28               0.56          1.9   \n",
              "4              7.4                0.70               0.00          1.9   \n",
              "\n",
              "   alumni_success  study_major_code  time_to_completion  \\\n",
              "0           0.076              11.0                34.0   \n",
              "1           0.098              25.0                67.0   \n",
              "2           0.092              15.0                54.0   \n",
              "3           0.075              17.0                60.0   \n",
              "4           0.076              11.0                34.0   \n",
              "\n",
              "   finance_workshop_score  cohort_ranking  total_loan_score  \\\n",
              "0                  0.9978            3.51              0.56   \n",
              "1                  0.9968            3.20              0.68   \n",
              "2                  0.9970            3.26              0.65   \n",
              "3                  0.9980            3.16              0.58   \n",
              "4                  0.9978            3.51              0.56   \n",
              "\n",
              "   financial_aid_score  \n",
              "0                  9.4  \n",
              "1                  9.8  \n",
              "2                  9.8  \n",
              "3                  9.8  \n",
              "4                  9.4  "
            ]
          },
          "execution_count": 29,
          "metadata": {},
          "output_type": "execute_result"
        }
      ],
      "source": [
        "# Define features set X by selecting all columns but credit_ranking\n",
        "X = loans_df.copy()\n",
        "X.drop(\"credit_ranking\", axis=1, inplace=True)\n",
        "\n",
        "# Review the features DataFrame\n",
        "X.head()"
      ]
    },
    {
      "cell_type": "markdown",
      "metadata": {
        "id": "QmM9c-tj6q6z"
      },
      "source": [
        "### Step 3: Split the features and target sets into training and testing datasets.\n"
      ]
    },
    {
      "cell_type": "code",
      "execution_count": 30,
      "metadata": {
        "id": "OD7xwU_96q6z"
      },
      "outputs": [],
      "source": [
        "# Split the preprocessed data into a training and testing dataset\n",
        "# Assign the function a random_state equal to 1\n",
        "\n",
        "X_train, X_test, y_train, y_test = train_test_split(X, y, random_state=1)"
      ]
    },
    {
      "cell_type": "markdown",
      "metadata": {
        "id": "G9i6DHY06q6z"
      },
      "source": [
        "### Step 4: Use scikit-learn's `StandardScaler` to scale the features data."
      ]
    },
    {
      "cell_type": "code",
      "execution_count": 31,
      "metadata": {
        "id": "BzD3z20m6q6z"
      },
      "outputs": [],
      "source": [
        "# Create a StandardScaler instance\n",
        "\n",
        "scaler = StandardScaler()\n",
        "\n",
        "# Fit the scaler to the features training dataset\n",
        "scaler.fit(X_train)\n",
        "\n",
        "# Fit the scaler to the features training dataset\n",
        "X_train_scaled = scaler.transform(X_train)\n",
        "X_test_scaled = scaler.transform(X_test)"
      ]
    },
    {
      "cell_type": "markdown",
      "metadata": {
        "id": "CZzVDjba6q6z"
      },
      "source": [
        "---\n",
        "\n",
        "## Compile and Evaluate a Model Using a Neural Network"
      ]
    },
    {
      "cell_type": "markdown",
      "metadata": {
        "id": "m-pSux4Q6q60"
      },
      "source": [
        "### Step 1: Create a deep neural network by assigning the number of input features, the number of layers, and the number of neurons on each layer using Tensorflow’s Keras.\n",
        "\n",
        "> **Hint** You can start with a two-layer deep neural network model that uses the `relu` activation function for both layers.\n"
      ]
    },
    {
      "cell_type": "code",
      "execution_count": 32,
      "metadata": {
        "colab": {
          "base_uri": "https://localhost:8080/"
        },
        "id": "t5C94FCd6q60",
        "outputId": "cbf05783-2f56-4745-cd33-649a6152e510"
      },
      "outputs": [
        {
          "data": {
            "text/plain": [
              "11"
            ]
          },
          "execution_count": 32,
          "metadata": {},
          "output_type": "execute_result"
        }
      ],
      "source": [
        "# Define the the number of inputs (features) to the model\n",
        "number_input_features = len(X_train.iloc[0])\n",
        "\n",
        "# Review the number of features\n",
        "number_input_features"
      ]
    },
    {
      "cell_type": "code",
      "execution_count": 33,
      "metadata": {
        "id": "c_KXDLkF6q60"
      },
      "outputs": [],
      "source": [
        "# Define the number of hidden nodes for the first hidden layer\n",
        "hidden_nodes_layer1 = (number_input_features + 1) // 2\n",
        "\n",
        "# Define the number of hidden nodes for the second hidden layer\n",
        "hidden_nodes_layer2 = (hidden_nodes_layer1 + 1) // 2\n",
        "\n",
        "# Define the number of neurons in the output layer\n",
        "n_outputs = 1"
      ]
    },
    {
      "cell_type": "code",
      "execution_count": 34,
      "metadata": {
        "id": "63UdFncw6q60"
      },
      "outputs": [],
      "source": [
        "# Create the Sequential model instance\n",
        "nn = Sequential()\n",
        "\n",
        "# Add the first hidden layer\n",
        "nn.add(Dense(units=hidden_nodes_layer1, activation=\"relu\", input_dim=number_input_features))\n",
        "\n",
        "# Add the second hidden layer\n",
        "nn.add(Dense(units=hidden_nodes_layer2,activation=\"relu\"))\n",
        "\n",
        "# Add the output layer to the model specifying the number of output neurons and activation function\n",
        "nn.add(Dense(units=n_outputs, activation = \"sigmoid\"))"
      ]
    },
    {
      "cell_type": "code",
      "execution_count": 35,
      "metadata": {
        "colab": {
          "base_uri": "https://localhost:8080/"
        },
        "id": "-Beoh4f_6q61",
        "outputId": "2e50f810-086b-4d89-bf7d-98afbe0d649d"
      },
      "outputs": [
        {
          "name": "stdout",
          "output_type": "stream",
          "text": [
            "Model: \"sequential_1\"\n",
            "_________________________________________________________________\n",
            " Layer (type)                Output Shape              Param #   \n",
            "=================================================================\n",
            " dense_3 (Dense)             (None, 6)                 72        \n",
            "                                                                 \n",
            " dense_4 (Dense)             (None, 3)                 21        \n",
            "                                                                 \n",
            " dense_5 (Dense)             (None, 1)                 4         \n",
            "                                                                 \n",
            "=================================================================\n",
            "Total params: 97\n",
            "Trainable params: 97\n",
            "Non-trainable params: 0\n",
            "_________________________________________________________________\n"
          ]
        }
      ],
      "source": [
        "# Display the Sequential model summary\n",
        "nn.summary()"
      ]
    },
    {
      "cell_type": "markdown",
      "metadata": {
        "id": "nRqWGIRo6q61"
      },
      "source": [
        "### Step 2: Compile and fit the model using the `binary_crossentropy` loss function, the `adam` optimizer, and the `accuracy` evaluation metric.\n"
      ]
    },
    {
      "cell_type": "code",
      "execution_count": 36,
      "metadata": {
        "id": "E-hZaeSn6q61"
      },
      "outputs": [],
      "source": [
        "# Compile the Sequential model\n",
        "nn.compile(loss='binary_crossentropy', optimizer='adam', metrics=['accuracy'])"
      ]
    },
    {
      "cell_type": "code",
      "execution_count": 37,
      "metadata": {
        "colab": {
          "base_uri": "https://localhost:8080/"
        },
        "id": "x25e8Idc6q61",
        "outputId": "e95946ba-23da-47a3-a1c1-5e9a2a484a47"
      },
      "outputs": [
        {
          "name": "stdout",
          "output_type": "stream",
          "text": [
            "Epoch 1/50\n",
            "38/38 [==============================] - 0s 755us/step - loss: 0.6857 - accuracy: 0.5897\n",
            "Epoch 2/50\n",
            "38/38 [==============================] - 0s 809us/step - loss: 0.6722 - accuracy: 0.6330\n",
            "Epoch 3/50\n",
            "38/38 [==============================] - 0s 2ms/step - loss: 0.6637 - accuracy: 0.6722\n",
            "Epoch 4/50\n",
            "38/38 [==============================] - 0s 755us/step - loss: 0.6558 - accuracy: 0.6806\n",
            "Epoch 5/50\n",
            "38/38 [==============================] - 0s 809us/step - loss: 0.6470 - accuracy: 0.6939\n",
            "Epoch 6/50\n",
            "38/38 [==============================] - 0s 782us/step - loss: 0.6375 - accuracy: 0.7089\n",
            "Epoch 7/50\n",
            "38/38 [==============================] - 0s 782us/step - loss: 0.6291 - accuracy: 0.7198\n",
            "Epoch 8/50\n",
            "38/38 [==============================] - 0s 809us/step - loss: 0.6209 - accuracy: 0.7239\n",
            "Epoch 9/50\n",
            "38/38 [==============================] - 0s 889us/step - loss: 0.6143 - accuracy: 0.7239\n",
            "Epoch 10/50\n",
            "38/38 [==============================] - 0s 863us/step - loss: 0.6074 - accuracy: 0.7389\n",
            "Epoch 11/50\n",
            "38/38 [==============================] - 0s 970us/step - loss: 0.6017 - accuracy: 0.7423\n",
            "Epoch 12/50\n",
            "38/38 [==============================] - 0s 782us/step - loss: 0.5968 - accuracy: 0.7440\n",
            "Epoch 13/50\n",
            "38/38 [==============================] - 0s 809us/step - loss: 0.5927 - accuracy: 0.7481\n",
            "Epoch 14/50\n",
            "38/38 [==============================] - 0s 755us/step - loss: 0.5891 - accuracy: 0.7515\n",
            "Epoch 15/50\n",
            "38/38 [==============================] - 0s 809us/step - loss: 0.5859 - accuracy: 0.7531\n",
            "Epoch 16/50\n",
            "38/38 [==============================] - 0s 782us/step - loss: 0.5818 - accuracy: 0.7540\n",
            "Epoch 17/50\n",
            "38/38 [==============================] - 0s 822us/step - loss: 0.5783 - accuracy: 0.7565\n",
            "Epoch 18/50\n",
            "38/38 [==============================] - 0s 836us/step - loss: 0.5753 - accuracy: 0.7540\n",
            "Epoch 19/50\n",
            "38/38 [==============================] - 0s 836us/step - loss: 0.5723 - accuracy: 0.7506\n",
            "Epoch 20/50\n",
            "38/38 [==============================] - 0s 836us/step - loss: 0.5692 - accuracy: 0.7523\n",
            "Epoch 21/50\n",
            "38/38 [==============================] - 0s 782us/step - loss: 0.5667 - accuracy: 0.7481\n",
            "Epoch 22/50\n",
            "38/38 [==============================] - 0s 768us/step - loss: 0.5639 - accuracy: 0.7490\n",
            "Epoch 23/50\n",
            "38/38 [==============================] - 0s 890us/step - loss: 0.5617 - accuracy: 0.7523\n",
            "Epoch 24/50\n",
            "38/38 [==============================] - 0s 782us/step - loss: 0.5586 - accuracy: 0.7465\n",
            "Epoch 25/50\n",
            "38/38 [==============================] - 0s 755us/step - loss: 0.5562 - accuracy: 0.7515\n",
            "Epoch 26/50\n",
            "38/38 [==============================] - 0s 809us/step - loss: 0.5542 - accuracy: 0.7515\n",
            "Epoch 27/50\n",
            "38/38 [==============================] - 0s 755us/step - loss: 0.5517 - accuracy: 0.7498\n",
            "Epoch 28/50\n",
            "38/38 [==============================] - 0s 741us/step - loss: 0.5497 - accuracy: 0.7481\n",
            "Epoch 29/50\n",
            "38/38 [==============================] - 0s 2ms/step - loss: 0.5475 - accuracy: 0.7490\n",
            "Epoch 30/50\n",
            "38/38 [==============================] - 0s 782us/step - loss: 0.5455 - accuracy: 0.7540\n",
            "Epoch 31/50\n",
            "38/38 [==============================] - 0s 782us/step - loss: 0.5442 - accuracy: 0.7473\n",
            "Epoch 32/50\n",
            "38/38 [==============================] - 0s 782us/step - loss: 0.5420 - accuracy: 0.7473\n",
            "Epoch 33/50\n",
            "38/38 [==============================] - 0s 768us/step - loss: 0.5402 - accuracy: 0.7490\n",
            "Epoch 34/50\n",
            "38/38 [==============================] - 0s 782us/step - loss: 0.5382 - accuracy: 0.7481\n",
            "Epoch 35/50\n",
            "38/38 [==============================] - 0s 755us/step - loss: 0.5365 - accuracy: 0.7531\n",
            "Epoch 36/50\n",
            "38/38 [==============================] - 0s 781us/step - loss: 0.5359 - accuracy: 0.7523\n",
            "Epoch 37/50\n",
            "38/38 [==============================] - 0s 782us/step - loss: 0.5336 - accuracy: 0.7531\n",
            "Epoch 38/50\n",
            "38/38 [==============================] - 0s 755us/step - loss: 0.5323 - accuracy: 0.7548\n",
            "Epoch 39/50\n",
            "38/38 [==============================] - 0s 768us/step - loss: 0.5304 - accuracy: 0.7515\n",
            "Epoch 40/50\n",
            "38/38 [==============================] - 0s 755us/step - loss: 0.5289 - accuracy: 0.7573\n",
            "Epoch 41/50\n",
            "38/38 [==============================] - 0s 782us/step - loss: 0.5279 - accuracy: 0.7598\n",
            "Epoch 42/50\n",
            "38/38 [==============================] - 0s 782us/step - loss: 0.5259 - accuracy: 0.7573\n",
            "Epoch 43/50\n",
            "38/38 [==============================] - 0s 809us/step - loss: 0.5244 - accuracy: 0.7540\n",
            "Epoch 44/50\n",
            "38/38 [==============================] - 0s 755us/step - loss: 0.5230 - accuracy: 0.7606\n",
            "Epoch 45/50\n",
            "38/38 [==============================] - 0s 822us/step - loss: 0.5218 - accuracy: 0.7615\n",
            "Epoch 46/50\n",
            "38/38 [==============================] - 0s 755us/step - loss: 0.5204 - accuracy: 0.7590\n",
            "Epoch 47/50\n",
            "38/38 [==============================] - 0s 782us/step - loss: 0.5190 - accuracy: 0.7590\n",
            "Epoch 48/50\n",
            "38/38 [==============================] - 0s 755us/step - loss: 0.5178 - accuracy: 0.7640\n",
            "Epoch 49/50\n",
            "38/38 [==============================] - 0s 782us/step - loss: 0.5166 - accuracy: 0.7640\n",
            "Epoch 50/50\n",
            "38/38 [==============================] - 0s 755us/step - loss: 0.5154 - accuracy: 0.7673\n"
          ]
        },
        {
          "data": {
            "text/plain": [
              "<keras.callbacks.History at 0x24ece9ca5c0>"
            ]
          },
          "execution_count": 37,
          "metadata": {},
          "output_type": "execute_result"
        }
      ],
      "source": [
        "# Fit the model using 50 epochs and the training data\n",
        "nn.fit(X_train_scaled, y_train, epochs=50)"
      ]
    },
    {
      "cell_type": "markdown",
      "metadata": {
        "id": "RfHMPZVI6q61"
      },
      "source": [
        "### Step 3: Evaluate the model using the test data to determine the model’s loss and accuracy.\n"
      ]
    },
    {
      "cell_type": "code",
      "execution_count": 38,
      "metadata": {
        "colab": {
          "base_uri": "https://localhost:8080/"
        },
        "id": "5hfVADKo6q61",
        "outputId": "7df473ad-3301-4b49-e5c3-16e1687cc1cf"
      },
      "outputs": [
        {
          "name": "stdout",
          "output_type": "stream",
          "text": [
            "13/13 - 0s - loss: 0.5352 - accuracy: 0.7525 - 129ms/epoch - 10ms/step\n"
          ]
        },
        {
          "data": {
            "text/plain": [
              "(0.535210371017456, 0.7524999976158142)"
            ]
          },
          "execution_count": 38,
          "metadata": {},
          "output_type": "execute_result"
        }
      ],
      "source": [
        "# Evaluate the model loss and accuracy metrics using the evaluate method and the test data\n",
        "model_loss, model_accuracy = nn.evaluate(X_test_scaled,y_test,verbose=2)\n",
        "\n",
        "# Display the model loss and accuracy results\n",
        "model_loss, model_accuracy"
      ]
    },
    {
      "cell_type": "markdown",
      "metadata": {
        "id": "jpAv0rXA6q61"
      },
      "source": [
        "### Step 4: Save and export your model to a keras file, and name the file `student_loans.keras`.\n"
      ]
    },
    {
      "cell_type": "code",
      "execution_count": 39,
      "metadata": {
        "id": "q0MetN0W6q61"
      },
      "outputs": [],
      "source": [
        "# Set the model's file path\n",
        "file_path = Path(\"student_loans.keras\")\n",
        "\n",
        "# Export your model to a keras file\n",
        "nn.save(file_path)"
      ]
    },
    {
      "cell_type": "markdown",
      "metadata": {
        "id": "R1opCDdN6q61"
      },
      "source": [
        "---\n",
        "## Predict Loan Repayment Success by Using your Neural Network Model"
      ]
    },
    {
      "cell_type": "markdown",
      "metadata": {
        "id": "TfIfpeiy6q61"
      },
      "source": [
        "### Step 1: Reload your saved model."
      ]
    },
    {
      "cell_type": "code",
      "execution_count": 40,
      "metadata": {
        "id": "OCET2mvW6q61"
      },
      "outputs": [],
      "source": [
        "# Set the model's file path\n",
        "file_path = Path(\"student_loans.keras\")\n",
        "\n",
        "# Load the model to a new object\n",
        "student_loans_model = tf.keras.models.load_model(file_path)"
      ]
    },
    {
      "cell_type": "markdown",
      "metadata": {
        "id": "rTPKooGw6q61"
      },
      "source": [
        "### Step 2: Make predictions on the testing data and save the predictions to a DataFrame."
      ]
    },
    {
      "cell_type": "code",
      "execution_count": 41,
      "metadata": {
        "colab": {
          "base_uri": "https://localhost:8080/"
        },
        "id": "Vet7qjgx6q62",
        "outputId": "0925af42-7e12-4978-8396-2a2c1580e1eb"
      },
      "outputs": [
        {
          "name": "stdout",
          "output_type": "stream",
          "text": [
            "13/13 [==============================] - 0s 831us/step\n"
          ]
        },
        {
          "data": {
            "text/plain": [
              "array([[0.45743337],\n",
              "       [0.42749435],\n",
              "       [0.750168  ],\n",
              "       [0.66174984],\n",
              "       [0.750168  ],\n",
              "       [0.5741174 ],\n",
              "       [0.750168  ],\n",
              "       [0.2578944 ],\n",
              "       [0.6251825 ],\n",
              "       [0.322058  ],\n",
              "       [0.750168  ],\n",
              "       [0.3378563 ],\n",
              "       [0.5434498 ],\n",
              "       [0.750168  ],\n",
              "       [0.4652278 ],\n",
              "       [0.3283985 ],\n",
              "       [0.66554815],\n",
              "       [0.42366225],\n",
              "       [0.43321207],\n",
              "       [0.50551355],\n",
              "       [0.6898595 ],\n",
              "       [0.6778947 ],\n",
              "       [0.30527833],\n",
              "       [0.750168  ],\n",
              "       [0.49730965],\n",
              "       [0.750168  ],\n",
              "       [0.750168  ],\n",
              "       [0.678883  ],\n",
              "       [0.31055328],\n",
              "       [0.46237904],\n",
              "       [0.5519364 ],\n",
              "       [0.750168  ],\n",
              "       [0.25338393],\n",
              "       [0.750168  ],\n",
              "       [0.13721667],\n",
              "       [0.5306455 ],\n",
              "       [0.20448689],\n",
              "       [0.36724466],\n",
              "       [0.750168  ],\n",
              "       [0.13775116],\n",
              "       [0.750168  ],\n",
              "       [0.06612382],\n",
              "       [0.12216248],\n",
              "       [0.74946284],\n",
              "       [0.05629456],\n",
              "       [0.5463746 ],\n",
              "       [0.19705185],\n",
              "       [0.29519004],\n",
              "       [0.38352743],\n",
              "       [0.750168  ],\n",
              "       [0.19142428],\n",
              "       [0.22676761],\n",
              "       [0.750168  ],\n",
              "       [0.04084018],\n",
              "       [0.17113256],\n",
              "       [0.64101523],\n",
              "       [0.750168  ],\n",
              "       [0.65308166],\n",
              "       [0.73918444],\n",
              "       [0.19549674],\n",
              "       [0.750168  ],\n",
              "       [0.1910918 ],\n",
              "       [0.23764263],\n",
              "       [0.569861  ],\n",
              "       [0.01555712],\n",
              "       [0.44138226],\n",
              "       [0.750168  ],\n",
              "       [0.41537893],\n",
              "       [0.750168  ],\n",
              "       [0.750168  ],\n",
              "       [0.13721667],\n",
              "       [0.750168  ],\n",
              "       [0.7087912 ],\n",
              "       [0.73115575],\n",
              "       [0.28163102],\n",
              "       [0.4219379 ],\n",
              "       [0.750168  ],\n",
              "       [0.16715266],\n",
              "       [0.3061453 ],\n",
              "       [0.70139277],\n",
              "       [0.750168  ],\n",
              "       [0.16095379],\n",
              "       [0.08515884],\n",
              "       [0.55030084],\n",
              "       [0.5724476 ],\n",
              "       [0.10119097],\n",
              "       [0.17352611],\n",
              "       [0.74592334],\n",
              "       [0.30135778],\n",
              "       [0.63547844],\n",
              "       [0.25145462],\n",
              "       [0.750168  ],\n",
              "       [0.14530341],\n",
              "       [0.750168  ],\n",
              "       [0.7253362 ],\n",
              "       [0.33621716],\n",
              "       [0.750168  ],\n",
              "       [0.5545023 ],\n",
              "       [0.35724965],\n",
              "       [0.750168  ],\n",
              "       [0.61390543],\n",
              "       [0.18851198],\n",
              "       [0.20840998],\n",
              "       [0.18846005],\n",
              "       [0.09303635],\n",
              "       [0.47658554],\n",
              "       [0.7413705 ],\n",
              "       [0.40385982],\n",
              "       [0.650876  ],\n",
              "       [0.59001493],\n",
              "       [0.750168  ],\n",
              "       [0.5623638 ],\n",
              "       [0.750168  ],\n",
              "       [0.3340097 ],\n",
              "       [0.27916834],\n",
              "       [0.750168  ],\n",
              "       [0.29948935],\n",
              "       [0.05457545],\n",
              "       [0.26815984],\n",
              "       [0.19490762],\n",
              "       [0.05637671],\n",
              "       [0.750168  ],\n",
              "       [0.750168  ],\n",
              "       [0.16857788],\n",
              "       [0.25368047],\n",
              "       [0.6201285 ],\n",
              "       [0.63856924],\n",
              "       [0.2544161 ],\n",
              "       [0.750168  ],\n",
              "       [0.62826747],\n",
              "       [0.4985598 ],\n",
              "       [0.20872456],\n",
              "       [0.750168  ],\n",
              "       [0.09467631],\n",
              "       [0.74672204],\n",
              "       [0.750168  ],\n",
              "       [0.13947102],\n",
              "       [0.750168  ],\n",
              "       [0.3357039 ],\n",
              "       [0.34330666],\n",
              "       [0.28780225],\n",
              "       [0.44310603],\n",
              "       [0.6429449 ],\n",
              "       [0.17267738],\n",
              "       [0.71077573],\n",
              "       [0.750168  ],\n",
              "       [0.4683542 ],\n",
              "       [0.0527039 ],\n",
              "       [0.7303659 ],\n",
              "       [0.7106506 ],\n",
              "       [0.44602507],\n",
              "       [0.750168  ],\n",
              "       [0.29075235],\n",
              "       [0.23144606],\n",
              "       [0.750168  ],\n",
              "       [0.750168  ],\n",
              "       [0.750168  ],\n",
              "       [0.750168  ],\n",
              "       [0.5796566 ],\n",
              "       [0.5382633 ],\n",
              "       [0.750168  ],\n",
              "       [0.62339884],\n",
              "       [0.32181013],\n",
              "       [0.19317608],\n",
              "       [0.750168  ],\n",
              "       [0.750168  ],\n",
              "       [0.6131175 ],\n",
              "       [0.1319375 ],\n",
              "       [0.25108972],\n",
              "       [0.750168  ],\n",
              "       [0.22602803],\n",
              "       [0.73453015],\n",
              "       [0.1871001 ],\n",
              "       [0.33157244],\n",
              "       [0.750168  ],\n",
              "       [0.37259427],\n",
              "       [0.41694528],\n",
              "       [0.08240323],\n",
              "       [0.36566368],\n",
              "       [0.33621716],\n",
              "       [0.6066356 ],\n",
              "       [0.750168  ],\n",
              "       [0.6331921 ],\n",
              "       [0.5673929 ],\n",
              "       [0.750168  ],\n",
              "       [0.750168  ],\n",
              "       [0.750168  ],\n",
              "       [0.55723095],\n",
              "       [0.3547721 ],\n",
              "       [0.12127078],\n",
              "       [0.19202453],\n",
              "       [0.6838242 ],\n",
              "       [0.4065439 ],\n",
              "       [0.09802295],\n",
              "       [0.750168  ],\n",
              "       [0.33894706],\n",
              "       [0.5491697 ],\n",
              "       [0.37790117],\n",
              "       [0.28855756],\n",
              "       [0.37799063],\n",
              "       [0.750168  ],\n",
              "       [0.5675462 ],\n",
              "       [0.750168  ],\n",
              "       [0.14554572],\n",
              "       [0.750168  ],\n",
              "       [0.7196826 ],\n",
              "       [0.20138913],\n",
              "       [0.0767329 ],\n",
              "       [0.750168  ],\n",
              "       [0.62417495],\n",
              "       [0.6522487 ],\n",
              "       [0.63455313],\n",
              "       [0.20840998],\n",
              "       [0.750168  ],\n",
              "       [0.3198609 ],\n",
              "       [0.16908914],\n",
              "       [0.17110625],\n",
              "       [0.14895931],\n",
              "       [0.72575724],\n",
              "       [0.6814184 ],\n",
              "       [0.65299904],\n",
              "       [0.19874023],\n",
              "       [0.2294335 ],\n",
              "       [0.28293774],\n",
              "       [0.750168  ],\n",
              "       [0.6622458 ],\n",
              "       [0.5862109 ],\n",
              "       [0.58081025],\n",
              "       [0.750168  ],\n",
              "       [0.61432654],\n",
              "       [0.4202571 ],\n",
              "       [0.22427739],\n",
              "       [0.750168  ],\n",
              "       [0.750168  ],\n",
              "       [0.209586  ],\n",
              "       [0.08851327],\n",
              "       [0.750168  ],\n",
              "       [0.21000393],\n",
              "       [0.52696675],\n",
              "       [0.5078451 ],\n",
              "       [0.750168  ],\n",
              "       [0.750168  ],\n",
              "       [0.750168  ],\n",
              "       [0.3678673 ],\n",
              "       [0.652861  ],\n",
              "       [0.750168  ],\n",
              "       [0.6740173 ],\n",
              "       [0.26164138],\n",
              "       [0.07654852],\n",
              "       [0.37210608],\n",
              "       [0.15460879],\n",
              "       [0.15649465],\n",
              "       [0.750168  ],\n",
              "       [0.7028535 ],\n",
              "       [0.750168  ],\n",
              "       [0.3227203 ],\n",
              "       [0.26202112],\n",
              "       [0.09765375],\n",
              "       [0.37672368],\n",
              "       [0.750168  ],\n",
              "       [0.750168  ],\n",
              "       [0.45971125],\n",
              "       [0.56087744],\n",
              "       [0.34772804],\n",
              "       [0.4218778 ],\n",
              "       [0.7303659 ],\n",
              "       [0.6412349 ],\n",
              "       [0.125654  ],\n",
              "       [0.03042848],\n",
              "       [0.750168  ],\n",
              "       [0.3956172 ],\n",
              "       [0.6317883 ],\n",
              "       [0.15974313],\n",
              "       [0.750168  ],\n",
              "       [0.0921135 ],\n",
              "       [0.59056664],\n",
              "       [0.2687388 ],\n",
              "       [0.73453015],\n",
              "       [0.40092766],\n",
              "       [0.19260177],\n",
              "       [0.750168  ],\n",
              "       [0.4821514 ],\n",
              "       [0.70572877],\n",
              "       [0.03312974],\n",
              "       [0.24210168],\n",
              "       [0.5488878 ],\n",
              "       [0.6508825 ],\n",
              "       [0.41989237],\n",
              "       [0.07108866],\n",
              "       [0.7069111 ],\n",
              "       [0.60912436],\n",
              "       [0.66554815],\n",
              "       [0.5909076 ],\n",
              "       [0.4593166 ],\n",
              "       [0.750168  ],\n",
              "       [0.70936906],\n",
              "       [0.1818829 ],\n",
              "       [0.750168  ],\n",
              "       [0.17970431],\n",
              "       [0.22848645],\n",
              "       [0.67309475],\n",
              "       [0.750168  ],\n",
              "       [0.11682403],\n",
              "       [0.74429774],\n",
              "       [0.46066374],\n",
              "       [0.5447415 ],\n",
              "       [0.08365015],\n",
              "       [0.750168  ],\n",
              "       [0.5963224 ],\n",
              "       [0.06539012],\n",
              "       [0.3039119 ],\n",
              "       [0.6174453 ],\n",
              "       [0.47098747],\n",
              "       [0.750168  ],\n",
              "       [0.5328077 ],\n",
              "       [0.6391951 ],\n",
              "       [0.23772268],\n",
              "       [0.22575784],\n",
              "       [0.750168  ],\n",
              "       [0.750168  ],\n",
              "       [0.37218994],\n",
              "       [0.64688206],\n",
              "       [0.750168  ],\n",
              "       [0.1995993 ],\n",
              "       [0.33894706],\n",
              "       [0.5744195 ],\n",
              "       [0.13838209],\n",
              "       [0.750168  ],\n",
              "       [0.6236285 ],\n",
              "       [0.50698555],\n",
              "       [0.750168  ],\n",
              "       [0.14842887],\n",
              "       [0.26724193],\n",
              "       [0.5539353 ],\n",
              "       [0.49363905],\n",
              "       [0.19155744],\n",
              "       [0.7464307 ],\n",
              "       [0.750168  ],\n",
              "       [0.35692835],\n",
              "       [0.5785263 ],\n",
              "       [0.2383807 ],\n",
              "       [0.54205596],\n",
              "       [0.25032374],\n",
              "       [0.73078346],\n",
              "       [0.39250162],\n",
              "       [0.750168  ],\n",
              "       [0.750168  ],\n",
              "       [0.45013162],\n",
              "       [0.18968937],\n",
              "       [0.31394675],\n",
              "       [0.63455313],\n",
              "       [0.750168  ],\n",
              "       [0.6911565 ],\n",
              "       [0.750168  ],\n",
              "       [0.350018  ],\n",
              "       [0.30278963],\n",
              "       [0.750168  ],\n",
              "       [0.750168  ],\n",
              "       [0.13947102],\n",
              "       [0.03783967],\n",
              "       [0.16855082],\n",
              "       [0.750168  ],\n",
              "       [0.15978354],\n",
              "       [0.750168  ],\n",
              "       [0.4520199 ],\n",
              "       [0.18082747],\n",
              "       [0.36745617],\n",
              "       [0.22667599],\n",
              "       [0.750168  ],\n",
              "       [0.08851327],\n",
              "       [0.56196856],\n",
              "       [0.52593684],\n",
              "       [0.39494023],\n",
              "       [0.36008003],\n",
              "       [0.15589465],\n",
              "       [0.6185304 ],\n",
              "       [0.750168  ],\n",
              "       [0.750168  ],\n",
              "       [0.16908914],\n",
              "       [0.7080191 ],\n",
              "       [0.750168  ],\n",
              "       [0.72063905],\n",
              "       [0.750168  ],\n",
              "       [0.7255552 ],\n",
              "       [0.34516233],\n",
              "       [0.750168  ],\n",
              "       [0.2005883 ],\n",
              "       [0.6762533 ],\n",
              "       [0.6928535 ],\n",
              "       [0.5786386 ],\n",
              "       [0.29844955],\n",
              "       [0.48148578],\n",
              "       [0.24852486],\n",
              "       [0.74488604],\n",
              "       [0.17954074],\n",
              "       [0.5063238 ],\n",
              "       [0.30135778],\n",
              "       [0.750168  ],\n",
              "       [0.30731186],\n",
              "       [0.5442882 ]], dtype=float32)"
            ]
          },
          "execution_count": 41,
          "metadata": {},
          "output_type": "execute_result"
        }
      ],
      "source": [
        "# Make predictions with the test data\n",
        "predictions = student_loans_model.predict(X_test_scaled)\n",
        "\n",
        "# Display a sample of the predictions\n",
        "predictions"
      ]
    },
    {
      "cell_type": "code",
      "execution_count": 42,
      "metadata": {
        "colab": {
          "base_uri": "https://localhost:8080/",
          "height": 424
        },
        "id": "87o8exFPhjfl",
        "outputId": "da5339c5-cea7-43e4-ec22-e168ea16dfa2"
      },
      "outputs": [
        {
          "data": {
            "text/html": [
              "<div>\n",
              "<style scoped>\n",
              "    .dataframe tbody tr th:only-of-type {\n",
              "        vertical-align: middle;\n",
              "    }\n",
              "\n",
              "    .dataframe tbody tr th {\n",
              "        vertical-align: top;\n",
              "    }\n",
              "\n",
              "    .dataframe thead th {\n",
              "        text-align: right;\n",
              "    }\n",
              "</style>\n",
              "<table border=\"1\" class=\"dataframe\">\n",
              "  <thead>\n",
              "    <tr style=\"text-align: right;\">\n",
              "      <th></th>\n",
              "      <th>Predicted Values</th>\n",
              "    </tr>\n",
              "  </thead>\n",
              "  <tbody>\n",
              "    <tr>\n",
              "      <th>0</th>\n",
              "      <td>0</td>\n",
              "    </tr>\n",
              "    <tr>\n",
              "      <th>1</th>\n",
              "      <td>0</td>\n",
              "    </tr>\n",
              "    <tr>\n",
              "      <th>2</th>\n",
              "      <td>1</td>\n",
              "    </tr>\n",
              "    <tr>\n",
              "      <th>3</th>\n",
              "      <td>1</td>\n",
              "    </tr>\n",
              "    <tr>\n",
              "      <th>4</th>\n",
              "      <td>1</td>\n",
              "    </tr>\n",
              "    <tr>\n",
              "      <th>5</th>\n",
              "      <td>1</td>\n",
              "    </tr>\n",
              "    <tr>\n",
              "      <th>6</th>\n",
              "      <td>1</td>\n",
              "    </tr>\n",
              "    <tr>\n",
              "      <th>7</th>\n",
              "      <td>0</td>\n",
              "    </tr>\n",
              "    <tr>\n",
              "      <th>8</th>\n",
              "      <td>1</td>\n",
              "    </tr>\n",
              "    <tr>\n",
              "      <th>9</th>\n",
              "      <td>0</td>\n",
              "    </tr>\n",
              "    <tr>\n",
              "      <th>10</th>\n",
              "      <td>1</td>\n",
              "    </tr>\n",
              "    <tr>\n",
              "      <th>11</th>\n",
              "      <td>0</td>\n",
              "    </tr>\n",
              "    <tr>\n",
              "      <th>12</th>\n",
              "      <td>1</td>\n",
              "    </tr>\n",
              "    <tr>\n",
              "      <th>13</th>\n",
              "      <td>1</td>\n",
              "    </tr>\n",
              "    <tr>\n",
              "      <th>14</th>\n",
              "      <td>0</td>\n",
              "    </tr>\n",
              "    <tr>\n",
              "      <th>15</th>\n",
              "      <td>0</td>\n",
              "    </tr>\n",
              "    <tr>\n",
              "      <th>16</th>\n",
              "      <td>1</td>\n",
              "    </tr>\n",
              "    <tr>\n",
              "      <th>17</th>\n",
              "      <td>0</td>\n",
              "    </tr>\n",
              "    <tr>\n",
              "      <th>18</th>\n",
              "      <td>0</td>\n",
              "    </tr>\n",
              "    <tr>\n",
              "      <th>19</th>\n",
              "      <td>1</td>\n",
              "    </tr>\n",
              "    <tr>\n",
              "      <th>20</th>\n",
              "      <td>1</td>\n",
              "    </tr>\n",
              "    <tr>\n",
              "      <th>21</th>\n",
              "      <td>1</td>\n",
              "    </tr>\n",
              "    <tr>\n",
              "      <th>22</th>\n",
              "      <td>0</td>\n",
              "    </tr>\n",
              "    <tr>\n",
              "      <th>23</th>\n",
              "      <td>1</td>\n",
              "    </tr>\n",
              "    <tr>\n",
              "      <th>24</th>\n",
              "      <td>0</td>\n",
              "    </tr>\n",
              "    <tr>\n",
              "      <th>25</th>\n",
              "      <td>1</td>\n",
              "    </tr>\n",
              "    <tr>\n",
              "      <th>26</th>\n",
              "      <td>1</td>\n",
              "    </tr>\n",
              "    <tr>\n",
              "      <th>27</th>\n",
              "      <td>1</td>\n",
              "    </tr>\n",
              "    <tr>\n",
              "      <th>28</th>\n",
              "      <td>0</td>\n",
              "    </tr>\n",
              "    <tr>\n",
              "      <th>29</th>\n",
              "      <td>0</td>\n",
              "    </tr>\n",
              "  </tbody>\n",
              "</table>\n",
              "</div>"
            ],
            "text/plain": [
              "    Predicted Values\n",
              "0                  0\n",
              "1                  0\n",
              "2                  1\n",
              "3                  1\n",
              "4                  1\n",
              "5                  1\n",
              "6                  1\n",
              "7                  0\n",
              "8                  1\n",
              "9                  0\n",
              "10                 1\n",
              "11                 0\n",
              "12                 1\n",
              "13                 1\n",
              "14                 0\n",
              "15                 0\n",
              "16                 1\n",
              "17                 0\n",
              "18                 0\n",
              "19                 1\n",
              "20                 1\n",
              "21                 1\n",
              "22                 0\n",
              "23                 1\n",
              "24                 0\n",
              "25                 1\n",
              "26                 1\n",
              "27                 1\n",
              "28                 0\n",
              "29                 0"
            ]
          },
          "execution_count": 42,
          "metadata": {},
          "output_type": "execute_result"
        }
      ],
      "source": [
        "# Save the predictions to a DataFrame and round the predictions to binary results\n",
        "df = pd.DataFrame({\"Predicted Values\": predictions[:, 0]})\n",
        "df[\"Predicted Values\"] = df[\"Predicted Values\"].apply(round)\n",
        "df.head(30)"
      ]
    },
    {
      "cell_type": "markdown",
      "metadata": {
        "id": "oxxLwycg6q62"
      },
      "source": [
        "### Step 4: Display a classification report with the y test data and predictions"
      ]
    },
    {
      "cell_type": "code",
      "execution_count": 43,
      "metadata": {
        "colab": {
          "base_uri": "https://localhost:8080/"
        },
        "id": "UTxYZibW6q67",
        "outputId": "f341b396-9b4c-478c-dba8-f6d904ba10e3"
      },
      "outputs": [
        {
          "name": "stdout",
          "output_type": "stream",
          "text": [
            "              precision    recall  f1-score   support\n",
            "\n",
            "           0       0.73      0.74      0.74       188\n",
            "           1       0.77      0.76      0.76       212\n",
            "\n",
            "    accuracy                           0.75       400\n",
            "   macro avg       0.75      0.75      0.75       400\n",
            "weighted avg       0.75      0.75      0.75       400\n",
            "\n"
          ]
        }
      ],
      "source": [
        "# Print the classification report with the y test data and predictions\n",
        "print(classification_report(y_test, df[\"Predicted Values\"]))"
      ]
    },
    {
      "cell_type": "markdown",
      "metadata": {
        "id": "8Aaof1tBtcp6"
      },
      "source": [
        "---\n",
        "## Discuss creating a recommendation system for student loans"
      ]
    },
    {
      "cell_type": "markdown",
      "metadata": {
        "id": "_CC8cNpNtcp6"
      },
      "source": [
        "Briefly answer the following questions in the space provided:\n",
        "\n",
        "1. Describe the data that you would need to collect to build a recommendation system to recommend student loan options for students. Explain why this data would be relevant and appropriate.\n",
        "\n",
        "2. Based on the data you chose to use in this recommendation system, would your model be using collaborative filtering, content-based filtering, or context-based filtering? Justify why the data you selected would be suitable for your choice of filtering method.\n",
        "\n",
        "3. Describe two real-world challenges that you would take into consideration while building a recommendation system for student loans. Explain why these challenges would be of concern for a student loan recommendation system."
      ]
    },
    {
      "cell_type": "markdown",
      "metadata": {
        "id": "5KqIT8kYtcp6"
      },
      "source": [
        "**1. Describe the data that you would need to collect to build a recommendation system to recommend student loan options for students. Explain why this data would be relevant and appropriate.**\n",
        "\n",
        "\n",
        "**2. Based on the data you chose to use in this recommendation system, would your model be using collaborative filtering, content-based filtering, or context-based filtering? Justify why the data you selected would be suitable for your choice of filtering method.**\n",
        "\n",
        "\n",
        "**3. Describe two real-world challenges that you would take into consideration while building a recommendation system for student loans. Explain why these challenges would be of concern for a student loan recommendation system.**\n",
        "\n"
      ]
    }
  ],
  "metadata": {
    "colab": {
      "provenance": []
    },
    "kernelspec": {
      "display_name": "dev",
      "language": "python",
      "name": "python3"
    },
    "language_info": {
      "codemirror_mode": {
        "name": "ipython",
        "version": 3
      },
      "file_extension": ".py",
      "mimetype": "text/x-python",
      "name": "python",
      "nbconvert_exporter": "python",
      "pygments_lexer": "ipython3",
      "version": "3.10.13"
    }
  },
  "nbformat": 4,
  "nbformat_minor": 0
}
